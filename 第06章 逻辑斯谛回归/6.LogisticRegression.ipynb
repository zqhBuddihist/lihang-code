{
 "cells": [
  {
   "cell_type": "markdown",
   "metadata": {},
   "source": [
    "# 第6章 逻辑斯谛回归"
   ]
  },
  {
   "cell_type": "markdown",
   "metadata": {},
   "source": [
    "逻辑斯谛回归(LR)是经典的分类方法\n",
    "\n",
    "1．逻辑斯谛回归模型是由以下条件概率分布表示的分类模型。逻辑斯谛回归模型可以用于二类或多类分类。\n",
    "\n",
    "$$P(Y=k | x)=\\frac{\\exp \\left(w_{k} \\cdot x\\right)}{1+\\sum_{k=1}^{K-1} \\exp \\left(w_{k} \\cdot x\\right)}, \\quad k=1,2, \\cdots, K-1$$\n",
    "\n",
    "$$P(Y=K | x)=\\frac{1}{1+\\sum_{k=1}^{K-1} \\exp \\left(w_{k} \\cdot x\\right)}$$\n",
    "这里，$x$为输入特征，$w$为特征的权值。\n",
    "\n",
    "逻辑斯谛回归模型源自逻辑斯谛分布，其分布函数$F(x)$是$S$形函数。逻辑斯谛回归模型是由输入的线性函数表示的输出的对数几率模型。\n",
    "\n",
    "2．最大熵模型是由以下条件概率分布表示的分类模型。最大熵模型也可以用于二类或多类分类。\n",
    "\n",
    "$$P_{w}(y | x)=\\frac{1}{Z_{w}(x)} \\exp \\left(\\sum_{i=1}^{n} w_{i} f_{i}(x, y)\\right)$$\n",
    "$$Z_{w}(x)=\\sum_{y} \\exp \\left(\\sum_{i=1}^{n} w_{i} f_{i}(x, y)\\right)$$\n",
    "\n",
    "其中，$Z_w(x)$是规范化因子，$f_i$为特征函数，$w_i$为特征的权值。\n",
    "\n",
    "3．最大熵模型可以由最大熵原理推导得出。最大熵原理是概率模型学习或估计的一个准则。最大熵原理认为在所有可能的概率模型（分布）的集合中，熵最大的模型是最好的模型。\n",
    "\n",
    "最大熵原理应用到分类模型的学习中，有以下约束最优化问题：\n",
    "\n",
    "$$\\min -H(P)=\\sum_{x, y} \\tilde{P}(x) P(y | x) \\log P(y | x)$$\n",
    "\n",
    "$$s.t.  \\quad P\\left(f_{i}\\right)-\\tilde{P}\\left(f_{i}\\right)=0, \\quad i=1,2, \\cdots, n$$\n",
    " \n",
    " $$\\sum_{y} P(y | x)=1$$\n",
    " \n",
    "求解此最优化问题的对偶问题得到最大熵模型。\n",
    "\n",
    "4．逻辑斯谛回归模型与最大熵模型都属于对数线性模型。\n",
    "\n",
    "5．逻辑斯谛回归模型及最大熵模型学习一般采用极大似然估计，或正则化的极大似然估计。逻辑斯谛回归模型及最大熵模型学习可以形式化为无约束最优化问题。求解该最优化问题的算法有改进的迭代尺度法、梯度下降法、拟牛顿法。\n"
   ]
  },
  {
   "cell_type": "markdown",
   "metadata": {},
   "source": [
    "\n",
    "回归模型：$f(x) = \\frac{1}{1+e^{-wx}}$\n",
    "\n",
    "其中wx线性函数：$wx =w_0\\cdot x_0 + w_1\\cdot x_1 + w_2\\cdot x_2 +...+w_n\\cdot x_n,(x_0=1)$\n"
   ]
  },
  {
   "cell_type": "code",
   "execution_count": 1,
   "metadata": {},
   "outputs": [],
   "source": [
    "from math import exp\n",
    "import numpy as np\n",
    "import pandas as pd\n",
    "import matplotlib.pyplot as plt\n",
    "%matplotlib inline\n",
    "\n",
    "from sklearn.datasets import load_iris\n",
    "from sklearn.model_selection import train_test_split"
   ]
  },
  {
   "cell_type": "code",
   "execution_count": 2,
   "metadata": {},
   "outputs": [],
   "source": [
    "# data\n",
    "def create_data():\n",
    "    iris = load_iris()\n",
    "    df = pd.DataFrame(iris.data, columns=iris.feature_names)\n",
    "    df['label'] = iris.target\n",
    "    df.columns = ['sepal length', 'sepal width', 'petal length', 'petal width', 'label']\n",
    "    data = np.array(df.iloc[:100, [0,1,-1]])\n",
    "    # print(data)\n",
    "    return data[:,:2], data[:,-1]"
   ]
  },
  {
   "cell_type": "code",
   "execution_count": 3,
   "metadata": {},
   "outputs": [],
   "source": [
    "X, y = create_data()\n",
    "X_train, X_test, y_train, y_test = train_test_split(X, y, test_size=0.3)"
   ]
  },
  {
   "cell_type": "code",
   "execution_count": 4,
   "metadata": {},
   "outputs": [],
   "source": [
    "class LogisticReressionClassifier:\n",
    "    def __init__(self, max_iter=200, learning_rate=0.01):\n",
    "        self.max_iter = max_iter\n",
    "        self.learning_rate = learning_rate\n",
    "\n",
    "    def sigmoid(self, x):\n",
    "        return 1 / (1 + exp(-x))\n",
    "\n",
    "    def data_matrix(self, X):\n",
    "        data_mat = []\n",
    "        for d in X:\n",
    "            data_mat.append([1.0, *d])\n",
    "        return data_mat\n",
    "\n",
    "    def fit(self, X, y):\n",
    "        # label = np.mat(y)\n",
    "        data_mat = self.data_matrix(X)  # m*n\n",
    "        self.weights = np.zeros((len(data_mat[0]), 1), dtype=np.float32)\n",
    "\n",
    "        for iter_ in range(self.max_iter):\n",
    "            for i in range(len(X)):\n",
    "                result = self.sigmoid(np.dot(data_mat[i], self.weights))\n",
    "                error = y[i] - result\n",
    "                self.weights += self.learning_rate * error * np.transpose(\n",
    "                    [data_mat[i]])\n",
    "        print('LogisticRegression Model(learning_rate={},max_iter={})'.format(\n",
    "            self.learning_rate, self.max_iter))\n",
    "\n",
    "    # def f(self, x):\n",
    "    #     return -(self.weights[0] + self.weights[1] * x) / self.weights[2]\n",
    "\n",
    "    def score(self, X_test, y_test):\n",
    "        right = 0\n",
    "        X_test = self.data_matrix(X_test)\n",
    "        for x, y in zip(X_test, y_test):\n",
    "            result = np.dot(x, self.weights)\n",
    "            if (result > 0 and y == 1) or (result < 0 and y == 0):\n",
    "                right += 1\n",
    "        return right / len(X_test)"
   ]
  },
  {
   "cell_type": "code",
   "execution_count": 5,
   "metadata": {},
   "outputs": [
    {
     "name": "stdout",
     "output_type": "stream",
     "text": [
      "LogisticRegression Model(learning_rate=0.01,max_iter=200)\n"
     ]
    }
   ],
   "source": [
    "lr_clf = LogisticReressionClassifier()\n",
    "lr_clf.fit(X_train, y_train)"
   ]
  },
  {
   "cell_type": "code",
   "execution_count": 6,
   "metadata": {},
   "outputs": [
    {
     "data": {
      "text/plain": [
       "0.9666666666666667"
      ]
     },
     "execution_count": 6,
     "metadata": {},
     "output_type": "execute_result"
    }
   ],
   "source": [
    "lr_clf.score(X_test, y_test)"
   ]
  },
  {
   "cell_type": "code",
   "execution_count": 7,
   "metadata": {},
   "outputs": [
    {
     "data": {
      "text/plain": [
       "<matplotlib.legend.Legend at 0x1b6e7cc16c8>"
      ]
     },
     "execution_count": 7,
     "metadata": {},
     "output_type": "execute_result"
    },
    {
     "data": {
      "image/png": "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\n",
      "text/plain": [
       "<Figure size 432x288 with 1 Axes>"
      ]
     },
     "metadata": {
      "needs_background": "light"
     },
     "output_type": "display_data"
    }
   ],
   "source": [
    "x_ponits = np.arange(4, 8)\n",
    "y_ = -(lr_clf.weights[1]*x_ponits + lr_clf.weights[0])/lr_clf.weights[2]\n",
    "plt.plot(x_ponits, y_)\n",
    "\n",
    "#lr_clf.show_graph()\n",
    "plt.scatter(X[:50,0],X[:50,1], label='0')\n",
    "plt.scatter(X[50:,0],X[50:,1], label='1')\n",
    "plt.legend()"
   ]
  },
  {
   "cell_type": "markdown",
   "metadata": {
    "collapsed": true
   },
   "source": [
    "### scikit-learn实例\n",
    "\n",
    "#### sklearn.linear_model.LogisticRegression\n",
    "\n",
    "solver参数决定了我们对逻辑回归损失函数的优化方法，有四种算法可以选择，分别是：\n",
    "- a) liblinear：使用了开源的liblinear库实现，内部使用了坐标轴下降法来迭代优化损失函数。\n",
    "- b) lbfgs：拟牛顿法的一种，利用损失函数二阶导数矩阵即海森矩阵来迭代优化损失函数。\n",
    "- c) newton-cg：也是牛顿法家族的一种，利用损失函数二阶导数矩阵即海森矩阵来迭代优化损失函数。\n",
    "- d) sag：即随机平均梯度下降，是梯度下降法的变种，和普通梯度下降法的区别是每次迭代仅仅用一部分的样本来计算梯度，适合于样本数据多的时候。"
   ]
  },
  {
   "cell_type": "code",
   "execution_count": 8,
   "metadata": {},
   "outputs": [],
   "source": [
    "from sklearn.linear_model import LogisticRegression"
   ]
  },
  {
   "cell_type": "code",
   "execution_count": 9,
   "metadata": {},
   "outputs": [],
   "source": [
    "clf = LogisticRegression(max_iter=200)"
   ]
  },
  {
   "cell_type": "code",
   "execution_count": 10,
   "metadata": {},
   "outputs": [
    {
     "data": {
      "text/plain": [
       "LogisticRegression(max_iter=200)"
      ]
     },
     "execution_count": 10,
     "metadata": {},
     "output_type": "execute_result"
    }
   ],
   "source": [
    "clf.fit(X_train, y_train)"
   ]
  },
  {
   "cell_type": "code",
   "execution_count": 11,
   "metadata": {},
   "outputs": [
    {
     "data": {
      "text/plain": [
       "0.9666666666666667"
      ]
     },
     "execution_count": 11,
     "metadata": {},
     "output_type": "execute_result"
    }
   ],
   "source": [
    "clf.score(X_test, y_test)"
   ]
  },
  {
   "cell_type": "code",
   "execution_count": 12,
   "metadata": {},
   "outputs": [
    {
     "name": "stdout",
     "output_type": "stream",
     "text": [
      "[[ 2.59546005 -2.81261232]] [-5.08164524]\n"
     ]
    }
   ],
   "source": [
    "print(clf.coef_, clf.intercept_)"
   ]
  },
  {
   "cell_type": "code",
   "execution_count": 13,
   "metadata": {},
   "outputs": [
    {
     "data": {
      "text/plain": [
       "<matplotlib.legend.Legend at 0x1b6e8248fc8>"
      ]
     },
     "execution_count": 13,
     "metadata": {},
     "output_type": "execute_result"
    },
    {
     "data": {
      "image/png": "iVBORw0KGgoAAAANSUhEUgAAAYIAAAEGCAYAAABo25JHAAAABHNCSVQICAgIfAhkiAAAAAlwSFlzAAALEgAACxIB0t1+/AAAADh0RVh0U29mdHdhcmUAbWF0cGxvdGxpYiB2ZXJzaW9uMy4xLjMsIGh0dHA6Ly9tYXRwbG90bGliLm9yZy+AADFEAAAgAElEQVR4nO3deXwU9f348debBIFwqRBUCCHIKbeAoILgLR4FEa1WtFVsqWKrrV+LKN6KZ2u1RbGo7U8LXuXy4lBUFFFBQEm47yPch5wh5Nj374/ZaIw5JmR2Z3b3/Xw89rG7s7Oz789usu+dmfe8R1QVY4wxiaua3wEYY4zxlyUCY4xJcJYIjDEmwVkiMMaYBGeJwBhjElyy3wFUVsOGDTUjI8PvMIwxJqYsWLBgl6qmlvZYzCWCjIwM5s+f73cYxhgTU0RkQ1mP2aYhY4xJcJYIjDEmwVkiMMaYBBdz+whKk5+fT3Z2Nrm5uX6HUq6aNWuSlpZG9erV/Q7FGGN+EBeJIDs7m7p165KRkYGI+B1OqVSV3bt3k52dTfPmzf0OxxhjfhAXm4Zyc3Np0KBBYJMAgIjQoEGDwK+1GGMST1wkAiDQSaBILMRojEk8cZMIjDEmXuUXhnhh1moWbdobkeVbIvDQ9OnTadOmDS1btuSJJ57wOxxjTBxYvHkflz8/h6emr2Da4m0ReY2ETATjx0NGBlSr5lyPH1/1ZRYWFnLrrbcybdo0li5dyhtvvMHSpUurvmBjTELKzS/k6RnLGfD8HLbvP8KYwV0ZcXHbiLxWXFQNVcb48TB0KOTkOPc3bHDuAwwefPTLnTdvHi1btuTkk08G4JprruGdd96hXbt2VYzYGJNo5q/fw/CJmazdeYiruqVx76XtqJ8SubLzhFsjGDnyxyRQJCfHmV4VmzdvpmnTpj/cT0tLY/PmzVVbqDEmoRw8UsAD7yzmqn99xZH8EK8N6cHTV3WOaBKABFwj2LixctPdKu3cz1YlZIxx67OVO7lnUhZb9h3mN2dk8JeL2lC7RnS+ohMuEaSnO5uDSpteFWlpaWzatOmH+9nZ2TRu3LhqCzXGxL29OXk88v4yJi7MpkVqbf73+zPonnF8VGNIuE1Do0ZBSspPp6WkONOr4rTTTmPVqlWsW7eOvLw83nzzTfr371+1hRpj4tq0rK2c/8znvPPdZv5wTks+uO2sqCcBSMA1gqIdwiNHOpuD0tOdJFCVHcUAycnJjB49mosuuojCwkKGDBlC+/btqx6wMSbu7Nify/3vLGH6km10aFKPV4ecRvvG9X2LJ+KJQESSgPnAZlW9rMRjNwBPA0V7VUer6suRjmnw4Kp/8Zfmkksu4ZJLLvF+wcaYuKCq/G9BNo++v5TcghB39WvL785qTnKSvxtnorFGcDuwDKhXxuNvqeofohCHMcb4ZtOeHO6ZnMXsVbvokXE8TwzqyMmpdfwOC4hwIhCRNOBSYBRwRyRfyxhjgqgwpLz21XqenrECAR4Z0J7BPZtRrVpwqgojvUbwLDAcqFvOPINEpA+wEvizqm4qOYOIDAWGAqRXtbzHGGOiZPWOA9w1MYsFG77n7DapjBrYkSbH1vI7rJ+J2IYpEbkM2KGqC8qZ7T0gQ1U7ATOBV0ubSVXHqmp3Ve2empoagWiNMcY7+YUhRn+yikue+4I1Ow/y96s7858bTgtkEoDIrhH0AvqLyCVATaCeiIxT1euKZlDV3cXmfwl4MoLxGGNMxGVl7+MvExaxfNsBLu10Eg/1b0/DOjX8DqtcEUsEqno3cDeAiJwN3Fk8CYSnn6SqW8N3++PsVDbGmJiTm1/IszNX8dLstTSofQz/ur4bF7U/0e+wXIl6zZKIPCwiRUda3SYiS0RkEXAbcEO04/HKkCFDaNSoER06dPA7FBMHItEh10TO3LW7ufi52bz42Rqu7JrGR3f0jZkkAFFKBKo6q+gYAlW9X1XfDd++W1Xbq2pnVT1HVZdHIx7WjYcpGfB6Ned6XdX/y2644QamT59e5eUYU9Qhd8MGUP2xQ64lg+A5kJvPfVMWc/XYrykIhRj/2548eWUn6teKbJM4ryXckcWsGw/zhkJhuAVpzgbnPkDzoz/KrE+fPqxfv77q8ZmEV16H3EgcCGmOzqfLdzBychZb9+dyU+/m/N+FrUk5Jja/UmMz6qpYNPLHJFCkMMeZXoVEYIxXItUh13hjz6E8Hnl/KZO/3UyrRnWYeMuZdE0/zu+wqiTxEkFOGf9NZU03Jsoi1SHXVI2q8kHWVh54Zwn7Dudz23mtuPWcFtRITvI7tCpLuO6jpJTx31TWdGOiLFIdcs3R274/l6H/XcAfXv+WJsfV4r0/9uaOC1rHRRKARFwj6Dzqp/sIAJJSnOnGBECkOuSaylNV3p6/iUc/WEZeQYh7LmnLkF7+N4nzWuIlgqL9AItGOpuDUtKdJFDF/QO/+tWvmDVrFrt27SItLY2HHnqIm266yYOATSKKVIdc497G3TmMmJTJl2t207P58Tw5qBMZDWv7HVZEJF4iAOdL3+Mdw2+88YanyzPG+KMwpPxnzjr++uEKkqtV47GBHbnmtKaBahLntcRMBMYYU4qV2w8wfEIm323ay7ltGzFqYAdOqh/M/kBeskRgjEl4eQUhxsxaw+hPV1G3ZnWeu6YL/Ts3RiR+1wKKi5tEoKqB/9BU1e8QjDElLNq0l7smZrJ82wEGdGnM/Ze1o0HAm8R5LS4SQc2aNdm9ezcNGjQIbDJQVXbv3k3NmjX9DsUYAxzOK+TvM1fy8uy1NKpbk5d/3Z3z253gd1i+iItEkJaWRnZ2Njt37vQ7lHLVrFmTtLQ0v8MwJuF9tWY3IyZlsmF3Dtf2TGfExW2pVzO2+gN5KS4SQfXq1WnevLnfYRhjAm5/bj6PT13OG/M20qxBCq//ridntmjod1i+i6+jIozxibWNDr6Pl23nwmc+561vNjK0z8lMv72PJYGwuFgjMMZPRW2jizqGFrWNBjsoLAh2HzzCQ+8t5d1FW2h7Yl3+dX03Ojc91u+wAkVirZKle/fuOn/+fL/DMOYHGRmlN4lr1gysM7l/VJV3F23hofeWciA3nz+c04pbzm7BMcmJuSFERBaoavfSHrM1AmOqyNpGB8/WfYe5d/JiPl6+gy5Nj+WpKzvR+oS6focVWJYIjKkiaxsdHKGQ8sY3G3l86nIKQiHuvfQUbuzVnKQ4bg/hBUsExlTRqFE/3UcA1jbaD+t3HWLEpEy+XruHM1s04IkrOpHeIKXiJxpLBMZUlbWN9ldBYYh/z1nH3z5cyTHJ1XhyUEd+2b1pYA8uDaLE3Gti4pKfJZyDBzs7hkMh59qSQHQs37afQWO+5LGpy+nTOpWZd/Tl6tPSLQlUkq0RmLhgJZyJ5UhBIc9/uoYXPl1N/VrVGX3tqVza8SRLAEfJykdNXLASzsSxcOP33DUhk1U7DjLw1Cbcf1k7jqt9jN9hBZ6Vj5q4ZyWc8S8nr4C/fbiSf89Zx4n1avKfG07jnLaN/A4rLlgiMHHBSjjj25zVuxgxKZNNew5z/enNGN6vDXUTuEmc12xnsYkLo0Y5JZvFWQln7Nt3OJ8REzMZ/PJckqtV462hp/PI5R0sCXjM1ghMXLASzvjz4ZJt3DtlMbsP5XFz3xb86fxW1Kye5HdYcSniawQikiQi34rI+6U8VkNE3hKR1SIyV0QyIh2PiV+JWMIZj11Pdx44wq2vL2TofxfQoE4NpgzrxYiL21oSiKBorBHcDiwD6pXy2E3A96raUkSuAZ4Ero5CTMbEvHgrmVVVpny3mYfeW0rOkULuvLA1v+/bgupJtgU70iL6DotIGnAp8HIZswwAXg3fngCcJ1YIbIwrI0f+tK0FOPdHjvQnnqrYvPcwN/6/b/jzW4s4uWFtpt7emz+c28qSQJREeo3gWWA4UFbbvybAJgBVLRCRfUADYFfxmURkKDAUIN3KQIwB4qNkNhRSxs/dwBPTlhNSeOAX7fj1GRnWJC7KIpYIROQyYIeqLhCRs8uarZRpPzvCTVXHAmPBOaDMsyCNiWGxXjK7dudBRkzMYt76PZzVqiGPDexI0+OtSZwfIrne1QvoLyLrgTeBc0VkXIl5soGmACKSDNQH9kQwJmPiRqyWzBYUhhgzaw39npvN8m37efrKTrw2pIclAR9FbI1AVe8G7gYIrxHcqarXlZjtXeA3wFfAlcAnGms9L4zxSSyWzC7dsp/hExexePN+Lmp/Ao8M6ECjejX9DivhRX1PjIg8LCL9w3dfARqIyGrgDmBEtOMxpizDhkFyMog418OG+R3Rz8VKyWxufiF/nbGC/qO/YNu+I4wZ3JV/Xd/dkkBAROWAMlWdBcwK376/2PRc4KpoxGBMZQwbBmPG/Hi/sPDH+y+84E9MsWrBhj0Mn5DJmp2HGNQ1jfsuO4VjU6xJXJBY91FjSpGc7Hz5l5SUBAUF0Y8nFh06UsDTM1bw6lfraVy/Fo9d0ZG+rVP9DithWfdRYyqptCRQ3nTzU5+v3Mndk7LYsu8wvz69GX/p15Y6NezrJqjskzGmFElJZa8RmLLty8nnkQ+WMmFBNien1ubt35/BaRnH+x2WqYAlAmNKMXToT/cRFJ9uSjd98Vbue2cJew7lMezsFtx2njWJixWWCIwpRdEO4bFjnTWDpCQnCdiO4p/bcSCXB95ZwrTF22jfuB7/ueE0OjSp73dYphKskYcJvPPPd0o4iy7nnx+d133hBWfHsKpzHc0kEAtdRVWVCQuyueCZz/l4+Q6G92vDlFt7WRKIQbZGYALt/PPh449/Ou3jj53pM2f6E1OkxUJX0U17crhnchazV+3itIzjeGJQJ1qk1vE7LHOUrHzUBFp5vWhj7E/XtYyM0nsINWvmHDTmp1BIee2r9Tw1YwUC3HVxW67r2Yxq1iQu8Kx81JgYEtSuoqt3HGTExEzmb/iePq1TeWxgB9KOs/5A8cASgTEBE7SuovmFIcZ+vpbnZq4ipUYSf7uqM1d0bYKdOiR+2M5iE2jnnVe56fEgSF1FF2/ex4DRc3h6xgouaHcCH/25L4O6pVkSiDO2RmACbebMn+8wPu+8+N1RDMHoKpqbX8hzH69i7OdrOb72Mbx4XTf6dTgxegGYqLI1AhN4N97o7CgVca5vvLFqy3NbmulnCaefXUW/Wb+HS56bzZhZaxjUtQkz/9zXkkCcszUCE2hel1K6XV4slHB67eCRAp6avpzXvtpA2nG1GHdTT3q3auh3WCYKrHzUBJrXpZRulxfkEs5ImLViByMnL2bLvsPceGZz/u/C1tS2JnFxxcpHTczyupTS7fKCWsLpte8P5fHIB0uZtHAzLRvVYcLNZ9Kt2XF+h2WizBKBCTSvSyndLi9oJZxeU1WmZm3jgXcXszcnn9vObcmt57akRrI1iUtEtrPYBJrXpZRulxekEk6v7dify+//u4BbX1/ISfVr8e4fenPHhW0sCSQwWyMwgeZ1KaXb5QWhhNNrqsr/5mfzyAdLySsIcffFbbmpd3OSk+z3YMJT1Zi6dOvWTU3Fxo1TbdZMVcS5HjcueK/tZ4yJZuPuQzr4pa+12V3v61UvfqlrdhzwOyQTZcB8LeN7tcI1AhGpAQwCMii2BqGqD0csO5kq8bP00cozg6UwpLz65XqenrGCpGrCo5d34Noe6dYkzvxEheWjIjId2AcsAH44eZ+q/i2yoZXOykcr5mfpo5VnBseq7QcYPjGTbzfu5Zw2qYwa2JHGx9byOyzjk6qWj6apaj+PYzIR5Gfpo5Vn+i+vIMSLn61h9CerqV0jiWev7sKALo2tP5Apk5tE8KWIdFTVrIhHYzzhZ+mjlWf6KzN7L8MnZLJ82wF+0bkxD/yiHQ3r1PA7LBNwZZYLiEiWiGQCvYGFIrJCRDKLTTcB5Wfpo5Vn+iM3v5DHpy7j8ufn8H1OHi/9ujv//NWplgSMK+WtEVwWtSiMp/wsfUzk8ky/fL12NyMmZrJ+dw6/6tGUERefQv1a1f0Oy8QQNzuL/6uq11c0rZTn1QQ+B2rgJJwJqvpAiXluAJ4GNocnjVbVl8tbru0sNsZxIDefJ6YtZ/zcjaQfn8ITV3TkzJbWJM6UrrydxW6OJGlfYmFJQDcXzzsCnKuqnYEuQD8ROb2U+d5S1S7hS7lJwMSXYcMgOdlpL52c7Nyvynx+to2O9mt/snw7F/79c96Yt5Hf9m7O9D+dZUnAHLUyNw2JyN3APUAtEdlfNBnIA8ZWtODwAQwHw3erhy+x1erURMywYTBmzI/3Cwt/vP/CC5WfLxaOnfDCnkN5PPzeEqZ8t4XWJ9ThhcFncmq6NYkzVeNm09Djqnr3US3cWXtYALQEnlfVu0o8fgPwOLATWAn8WVU3lbdM2zQUH5KTnS/1kpKSoKCg8vPFwrETVaGqvJe5lQffXcKB3HyGnd2SW89pyTHJ1h7CuFPepqEyE4GIdC1voaq6sBIBHAtMBv6oqouLTW8AHFTVIyJyM/BLVT23lOcPBYYCpKend9tQ2n+diSnllbQX/5N0O1+1aj+9X/z5oVDl46uMSL/2tn253DtlMTOXbadzWn2evLITbU+sV/UFm4RytAeUFR05XBPoDizC2TTUCZiLU1bqiqruFZFZQD9gcbHpu4vN9hLwZBnPH0t4c1T37t1t81IcSEoq+5f+0cwXC8dOVJaq8uY3m3jsg2Xkh0KMvOQUhvRuTpK1hzAeK3O9UlXPUdVzgA1AV1XtrqrdgFOB1RUtWERSw2sCiEgt4HxgeYl5Tip2tz+wrPJDMLGoaBt6RdPdzhcLx05Uxobdh7j2pbncPSmL9k3qMf32Pvyuz8mWBExklNWNrugCfOdmWinzdAK+BTJx1gLuD09/GOgfvv04sARnbeNToG1Fy7Xuo/HjlltUk5JUwbm+5ZaqzRcLHVcrUlAY0pc+X6Nt7p2qHe6fruO/3qCFhSEvQzUJinK6j7rZ07RMRF4WkbNFpK+IvISLX+6qmqmqp6pqJ1XtoOFupap6v6q+G759t6q2V9XO6qyBLC9/qcatSJQzui3j9FqvXpCW5rxuWppzPxoqM97Bg50dw6GQc3001UIrth3gijFf8ugHy+jVoiEf3tGHa3tGuVPouvEwJQNer+Zcr4tiDa7xT1kZQn/8ZV8T+DPOzt7J4ds1K3pepC62RlCxceNUU1KcX9BFl5SUqv1CvuWWny6v6FLWr3Ovlud2LF6P2evxludIfqH+/aMV2vKeD/TUhz/Ud77brKGQD2sBa8epvpmiOp4fL2+mONNNzKOcNYIKy0eDxspHKxaJcka3ZZxeL8+vttZej7cs323ay10TMlmx/QADujTmgV+05/jax3j3ApUxJQNySnkTU5rB5eujHY3x2FFVDYnI26r6SxHJopQDwVS1k4cxGg9FosVzaV+K5U33anl+tbX2erwlHc4r5JmPVvDKF+toVLcmr/ymO+edcoI3Cz9aOWW8WWVNN3GjvPLR28PX1nwuxkSinNFtGafXy/OrrbXX4y3uyzW7GDExi417cri2ZzojLm5LvZoBaBKXkl7GGoH1Bo935ZWPbg3fPA84RlU3FL9EJzxzNCJRzui2jNPr5fnV1trr8QLsz83n7klZXPvSXETgjd+dzmMDOwYjCQB0HgVJJd7EpBRnuolvZe08KLrglHt+AqwB3gb+CHSp6HmRutjOYnciUUrptozT6+W5HYvXY/ZyvB8t2aY9Rn2kzUe8r6M+WKo5RwqqFlykrB2nOrmZ6nhxrm1HcdzAi53F4YPCfgfcCTRRVQ9WkivPdhbHj/Hj3Z2PwO18QbT74BEefG8p7y3aQtsT6/LkoE50bnqs32EF07rxsGiks08iJd1ZE2keIx90DKjSOYtF5F6gF1AH5wCxO4HZnkZoEo7bjp1+dhWtClXl3UVbePDdJRw8UsAdF7Tm5r4trElcWdaNh3lDoTD8QedscO6DJYMocNN9dCFQAHwAfAZ8raq5UYitVLZGEB/8KguNhi17D3PvlMV8snwHXZoey1NXdqL1CXX9DivYrHQ14qq0RqCqXUWkLk6TuQuAl0Rku6q6bjpnTEl+lYVGUiikvPHNRh6fupzCkHLfZe244cwM6w/khpWu+srNpqEOwFlAX5wupJuwTUOmivwqC42UdbsOMWJiJnPX7aFXywY8PrAT6Q1SKn6icVjpqq/cbLB8EqgL/AM4RZ2eQPdHNiwT7/wqC/VaQWGIf322hn7Pfs7Srft5clBHxt3U05JAZVnpqq/cbBq6NBqBmMRStKO3omogt/P5YdnW/dw1MZPM7H1c0O4EHr28AyfUq+l3WLGpaIewVQ35wkoYAsLrbqFul+dXR9HK8KKzp5eOFBTyzIcr+MU/v2Dz94cZfe2pjL2+W7CTQCx0FW0+2NkxfG3IuS4rCcTCWLwW4TFXuEZgIs/rEkm3y3N7YvhIiNWy0IUbv+euCZms2nGQK05twn2XteM4v5rEuRVPpZnxNBa3ojBm6z4aAF6XSLpdXrQ6bJYm1spCc/IK+OuMlfzny3WcVK8mo67oyDltGvkdljvxVJoZT2Nxy6MxH2330fcopetoEVXt7zoCUy6vSyTdLi/SHTbLE0tloV+s2sXdkzPZtOcw15/ejOH92lA3KP2B3Iin0sx4GotbURhzeZuG/urZq5hyeV0i6XZ5keywWZFYKAvddzifUR8s5e352TRvWJu3hp5Oz5Mb+B1W5cVTaWY8jcWtKIy5vO6jn5V38SwC43mJpNvlRaLDpltBLwudsWQbFzzzGRMXbubmvi2YdvtZsZkEIL5KM+NpLG5FY8xldaMrugCtgAnAUmBt0aWi50XqEq/dR73unOl2eV53FI1EjNG0Y3+uDhu3QJvd9b72e/Zzzdy01++QvBFPXUXjaSxueTBmyuk+6iYRfIFzToJMoBnwIPBQRc+L1CVeE4HXIvElGwvJ5WiFQiGduGCTdn5ohra6Z6r+8+OVmldQ6HdYJkjm3qL6epJzLufXk5z7VRXFpFZeInBTPlpLVT8WEVHnhDQPishs4AHv1kuMlyJRmhkLJalHa/Pew4ycnMWsFTvpmu40iWvZyJrEmWLmDYPVxf6wtfDH+z2O8g87QKWwbrqPzsHpNTQB5wQ1m4EnVLVN5MP7uXgsH/VaJEozY6EktbJCIWX83A08MW05Cgy/qA3Xn2FN4kwp3kh2vvxLkiT41VH+YUe5FLZK3UeBPwEpwG3AI8C5wG+8C894LRKlmbFQkloZa3YeZMTETL5Z/z1ntWrIYwM70vR46w9kylBaEihvuhsBKoV102voGwARqQbcpqoHIh6VqZJIlGbGQkmqGwWFIcbOXsuzM1dRM7kaT1/ZiSu7pSFiawGmHJJU9hrB0QpQKWyFvYZEpLuIZOHsLM4SkUUi0i3yoZmjFYnSzFgoSa3Iki37uPyFOTw1fQXntEll5h19uap7U0sCpmItyvgDLmu6G0EqhS1rL3LRBScBnFXsfm8gs6LnRepiVUPuWNXQjw7nFehT05fpyXd/oN0e+UinZm7xNyATm+K4ashN99EDqvrDiWhU9Qugws1DIlJTROaF1yCWiMhDpcxTQ0TeEpHVIjJXRDJcZa8Y4rYLqNfdRyPRsXPOHMjOBlXnes6c0ufr1QvS0pyOpmlpzv3SeD3m0izYsIdL/zGb5z9dw+VdmjDzjj5c3PEkd0+ORMfHecOcHY+vi3M9r4x2r16/dtCX5ye3Y0ntBbXSAHGuU8v4w64Mtx1XI8zNzuJ5IvIv4A2c3kNXA7NEpCuAqi4s43lHgHNV9aCIVAe+EJFpqvp1sXluAr5X1ZYicg3OSXCuPtrBBE08naDdbVloUMZ86EgBT89Ywatfradx/Vq8OqQHfVunul9AJEr73JYgev3aQV+en9yOJZ7GXAo35aOflvOwquq5Fb6ISArOgWm3qOrcYtNnAA+q6lcikgxsA1K1nKBiqXw0nk7Q7rYsNAhj/nzlTu6elMWWfYf59enN+Eu/ttSpUcmO65Eo7XNbguj1awd9eX5yO5Y4GHNVT15/ThVeOAlYALQEni+eBMKa4JwDGVUtEJF9QANgV4nlDAWGAqQHqStZBeLpBO1uy0L9HPPenDwe/WAZExZkc3Jqbd7+/RmclnH80S0sEqV9bksQvX7toC/PT27HEk9jLoWbqqETROQVEZkWvt9ORG5ys3BVLVTVLkAa0ENEOpRcfGlPK2U5Y1W1u6p2T02txOq9z8rKWaWdoL0yz/dDWeWfJaf7NeZpWVs5/5nPmfztZoad3YKpt5119EkAyi7hq0ppX1mlhiWne/3aQV+en9yOJZ7GXAo3O4v/HzADaBy+vxLnIDPXVHUvMAvoV+KhbKApQHjTUH1gT2WWHWTxcoJ2cF8WGu0x7ziQyy3jFnDL+IU0qluDd27txfB+balZvYoHLkSitM9tCaLXrx305fnJ7VjiacylKaucqOgCfBO+/rbYtO9cPC8VODZ8uxYwG7isxDy3Ai+Gb18DvF3RcmOtfNRtyWUQO3GW5LYsNBpjDoVC+vY3G7XTgzO01cipOvqTVd43iYtEaZ/bEkSvXzvoy/OT27HE+JipYtO5QyLSgPAmGxE5Hdjn4nknAa+G9xNUC3/Jvy8iD4cDehd4BfiviKzGWRO4xsVyY8rgwcGp/KmqF15w1zjO7ZiP9r3ZtCeHeyZnMXvVLro3O44nBnWiZaM6lV9QRZoP9r4iJLUXbJnqbFv2qgTRDbdjWTceFo104ktJd37xVvU98HqZkYjRjUj8PQSEm6qhrsA/gQ7AYpxf+leqambkw/u5WKoacqtkKSU4m0nGjo2fJOKFUEh57av1PDVjBQLcdXFbruvZjGqx0iSuZAkiOJsXeowtv1SxrPliIT6vxxL05QVYeVVDrk5eH95+3wZn5+4KVc33NkT34jERxEL5qN9W7zjAXROzWLDhe/q0TuWxgR1IOy7GmsQFvVQxEvEFvXQ1DspC3apS+aiIXAVMV9UlInIv0FVEHtWyDyQzlRQL5aN+yS8MMfbztTw3cxW1jknib1d15oquTWKzP1DQSxUjEV/QS1fjvCzULTdVQ/ep6gER6Q1cBLwKjKngOaYSYqF81A+LN+9jwOg5PD1jBee3a8TMOw2Pyu0AABUBSURBVPoyKJY7hQa9VDES8QW9dDXOy0LdcpMIio52uRQYo6rvAMdELqTEEwvlo9GUm1/Ik9OXM+D5Oew8eIQXr+vKC4O7kVq3ht+hVU3QSxUjEV/QS1fjvSzUJTeJYHO419AvgakiUsPl84xLgwc7O4abNXMatTVrlrg7iuet28Mlz81mzKw1XHFqE2b+uS/9OrhsEhd0zQc7OyFTmgHiXJe2U9LtfLEQn9djCfryYpSbqqEUnAPBslR1lYicBHRU1Q+jEWBJ8biz2MDBIwU8OW05//16A2nH1eLxKzpyVqvYOYrcmKCraq+hHGBSsftbga3ehWcS3acrdjByUhZb9+dyY68M7rywDbUr2yQu3swbBmvGOn2IJMk5+vhoT5IeCUGPD/w73sCv162CBP9vM376/lAej7y/lEnfbqZlozpMuPlMujU7zu+w/Oe2XbVfgh4f+Nc2OkbbVbs6jiBIbNNQ7FNVpmZt44F3F7M3J5+b+7bgj+e1pEZyQE5s7De37ar9EvT4IPjHYvigSpuGjPHS9v253DdlMR8u3U7HJvV5bUhP2jWu53dYweK2XbVfgh4fBP9YjICxRGCiQlV5e/4mHv1gGXkFIUZc3Jbf9m5OcpIVoP2MJJX9izsIgh4fONvmS/1lHoVjMfx43Sqy/0ITcRt353DdK3O5a2IWp5xUj2m3n8XNfVtYEiiL23bVfgl6fBD8YzECxtYITMQUhpT/9+V6/jpjBUnVhEcv78C1PdJjp0mcX4p2uAa1Kifo8cGPO2ajXb3j1+tWke0sNhGxavsBhk/M5NuNezm7TSqPDexI42NrRfZFY6Fsz+sYvS7jjIX30BwV21lsoiavIMSLn61h9CerqV0jiWev7sKALo0j3x8oFsr2vI7R6zLOWHgPTUTYGoHxTGb2XoZPyGT5tgNc1ukkHuzfnoZ1otQfKMBlez/wOkavyzhj4T00R83WCExEHc4r5NmZK3lp9loa1qnB2Ou7cWH7E6MbRCyU7Xkdo9dlnLHwHpqIsERgquTrtbsZMTGT9btz+FWPpoy4+BTq16oe/UBioWzP6xi9LuOMhffQRITV75mjciA3n5GTs7hm7NeEFF7/bU8ev6KTP0kAYqNsz+sYvS7jjIX30ESErRGYSvtk+XZGTl7M9v25/LZ3c+64sDUpx/j8pxQLZXtex+h1GWcsvIcmImxnsXFtz6E8Hn5vCVO+20KrRnV46spOnJpuTeIA78su3S7Pyj2NS7az2FSJqvJe5lYefHcJ+w/nc/t5rRh2TgtrElfE67JLt8uzck/jEdtHYMq1bV8uv3ttPre98S1Nj6vF+7f15s8XtLYkUNyikT9+GRcpzHGmR3J5Xr+uSVi2RmBKpaq8+c0mHvtgGfmhECMvOYUhvZuTZO0hfs7rsku3y7NyT+MRSwTmZzbsPsSIiVl8tXY3p598PE9c0YmMhrX9Diu4vC67dLs8K/c0HrFNQ+YHhSHl5dlruejZz1m8eR+PDezI67893ZJARbwuu3S7PCv3NB6xNQIDwIptTpO4RZv2cl7bRjw6sAMn1Y9wk7h44XXZpdvlWbmn8UjEEoGINAVeA04EQsBYVX2uxDxnA+8A68KTJqnqw5GKyfxcXkGI5z9dzQuzVlO3ZnWeu6YL/TtHoUlcZcRTiaTbsTQf7G6MbueLBfH0OceYSK4RFAD/p6oLRaQusEBEPlLVpSXmm62ql0UwDlOG7zbtZfiERazcfpABXRpz/2XtaBCtJnFuxUKJpJV7Vp29N76K2D4CVd2qqgvDtw8Ay4AmkXo9497hvEIefX8pV7wwh/2HC3jlN9157ppTg5cEIDZKJK3cs+rsvfFVVPYRiEgGcCowt5SHzxCRRcAW4E5VXVLK84cCQwHS060ioiq+XLOLEROz2Lgnh2t7pjPi4rbUq+lTfyA3YqFE0so9q87eG19FvGpIROoAE4E/qer+Eg8vBJqpamfgn8CU0pahqmNVtbuqdk9NTY1swHFqf24+d0/K5NqX5iICb/zudB4b2DHYSQDKLoUMUomk2xhjYSx+sffGVxFNBCJSHScJjFfVSSUfV9X9qnowfHsqUF1EGkYypkQ0c+l2LnjmM976ZhND+5zM9Nv7cEaLBn6H5U4slEhauWfV2Xvjq0hWDQnwCrBMVZ8pY54Tge2qqiLSAycx7Y5UTIlm18EjPPTeUt5btIW2J9Zl7PXd6dz0WL/DqpxYKJG0cs+qs/fGVxHrPioivYHZQBZO+SjAPUA6gKq+KCJ/AG7BqTA6DNyhql+Wt1zrPloxVeWd77bw0HtLOHikgD+e24qb+7bgmOQoHT+YiGWAXp9E3hiP+dJ9VFW/AMotRlfV0cDoSMWQiLbsPcy9UxbzyfIddGl6LE9d2YnWJ9SNXgCJWAbo9UnkjYkyazERJ0IhZdzXG7jw75/z1Zrd3HdZOybecmZ0kwAkZhngmrGVm25MwFiLiTiwbtchRkzMZO66PfRq2YDHB3YivUFKxU+MhEQsA/T6JPLGRJklghhWUBjilS/W8cxHKzkmuRpPDurIL7s39bc9RCJ2xPT6JPLGRJltGopRS7fsZ+ALX/L4tOX0aZ3KzDv6cvVp6f73CErEMkCvTyJvTJTZGkGMOVJQyOhPVjNm1hqOTanO89d25ZKOJ/qfAIokYhmg1yeRNybKLBHEkAUbvufX92xlxfsZFB5oTVoa7G0uSCe/IyvBbUfMeCozTe0FW6Y6Y6mV5tw3lRNPfw8xxhJBDMjJK+DpGSsY/VIee6Z3IpTvbHvO3gRDw1sfBsfa/0s8lZnG01j8Yu+hr2wfQcB9sWoXF/79c/4zZz35X7f/IQkUycmBkbFYmRlPZabxNBa/2HvoK0sEAbUvJ5/hExZx3StzqZ5UjbeGns7+XceUOu/GWKzMjKcy03gai1/sPfSVbRoKoOmLt3HfO4vZcyiPW85uwe3ntaJm9STS02FDKZWZMdmZO57KTONpLH6x99BXtkYQIDsPHOHW8Qu5edwCGtapwZRhvbirX1tqVnc2B40aBSklKjNTUpzpMSeeykzjaSx+sffQV7ZGEACqyqSFm3n4/aUczivkLxe1YWifk6me9NM8XbRDeORIZ3NQerqTBGJuRzHEV5lpPI3FL/Ye+ipi3UcjJd66j27ee5h7JmXx2cqddE13msS1bBTl/kDGFIlECaeVhQaCL91HTflCIWXc3A08OW05Cjz4i3Zcf0YGSdUCcmCYSTyRKOG0stCYYInAB2t2HmTExEy+Wf89Z7VqyGMDO9L0eJ+axBlTpLwSzqP90o7EMo3nLBFEUX5hiJdmr+XZmauomVyNp6/sxJXd0oLTHsIktkiUcFpZaEywRBAlizfv466JmSzZsp9+7U/k4cvb06huTb/DMuZHkSjhtLLQmGDloxGWm1/I0zOWM+D5OWzff4Qxg7vy4vXdLAmY4IlECaeVhcYEWyOIoPnr9zB8YiZrdx5iUNc07rvsFI5NKf3oYGN8F4kSTisLjQlWPhoBh444TeJe/Wo9jevX4rErOtK3darfYRljEpiVj0bRZyt3cs+kLLbsO8xvzsjgLxe1oXYNe5uNMcFl31Ae2ZuTxyPvL2PiwmxOTq3N/35/Bt0zjvc7LGOMqZAlAg9My9rKfe8s4fucPG49pwV/PLfVD/2BjDEm6CwRVMGO/bnc/84Spi/ZRvvG9Xh1yGm0b1zf77CMMaZSLBEcBVVlwoJsHnl/KbkFIYb3a8Pvzvp5kzhjjIkFlggqadOeHO6ZnMXsVbs4LeM4nhjUiRapdfwOyxhjjpolApcKQ8prX63n6RkrEOCRAe0Z3LMZ1axJnDEmxkVsW4aINBWRT0VkmYgsEZHbS5lHROQfIrJaRDJFpGuk4qmK1TsO8Mt/fcVD7y3ltIzjmfHnPlx/RoYlgapaNx6mZMDr1ZzrdeP9jsiYhBTJNYIC4P9UdaGI1AUWiMhHqrq02DwXA63Cl57AmPB1IOQXhvjXZ2v4x8erSamRxDO/7MzAU5tYkzgvWHtiYwIjYolAVbcCW8O3D4jIMqAJUDwRDABeU+fw5q9F5FgROSn8XF8t3ryPv0zIZNnW/Vza8SQe7N+e1Lo1/A4rflh7YmMCIyr7CEQkAzgVmFvioSbApmL3s8PTfpIIRGQoMBQgPcJnas/NL+TZmat4afZajq99DC9e141+HU6M6GsmJGtPbExgRDwRiEgdYCLwJ1XdX/LhUp7ys+ZHqjoWGAtOryHPgwybt24PIyZmsnbXIa7u3pR7LjmF+inVI/Vyic3aExsTGBFNBCJSHScJjFfVSaXMkg00LXY/DdgSyZhKcyA3n6emr+C/X28g7bhajLupJ71bNYx2GIml86if7iMAa09sjE8ilgjE2aP6CrBMVZ8pY7Z3gT+IyJs4O4n3RXv/wKcrdjByUhZb9+cypFdz7ryoNSnHWFVtxFl7YmMCI5LfeL2A64EsEfkuPO0eIB1AVV8EpgKXAKuBHODGCMbzE98fyuOR95cy6dvNtGxUhwk3n0m3ZsdF6+UNOF/69sVvjO8iWTX0BaXvAyg+jwK3RiqGMl6TD7K28sA7S9h3OJ/bzm3Jree2pEayNYkzxiSmhNoGsn1/LvdNWcyHS7fTsUl9xv22J6ecVM/vsIwxxlcJkwg+Xb6D2978lryCEHdf3Jabejcn2ZrEGWNM4iSC5g1r0zX9OB7s357mDWv7HY4xxgRGwiSCjIa1eXVID7/DMMaYwLFtI8YYk+AsERhjTIKzRGCMMQnOEoExxiQ4SwTGGJPgLBEYY0yCs0RgjDEJzhKBMcYkOHH6vsUOEdkJlHJGE1caArs8DMdPNpZgipexxMs4wMZSpJmqppb2QMwlgqoQkfmq2t3vOLxgYwmmeBlLvIwDbCxu2KYhY4xJcJYIjDEmwSVaIhjrdwAesrEEU7yMJV7GATaWCiXUPgJjjDE/l2hrBMYYY0qwRGCMMQkubhOBiCSJyLci8n4pj9UQkbdEZLWIzBWRjOhH6F4FY7lBRHaKyHfhy2/9iNENEVkvIlnhOOeX8riIyD/Cn0umiHT1I86KuBjH2SKyr9hncr8fcbohIseKyAQRWS4iy0TkjBKPx8RnAq7GEhOfi4i0KRbjdyKyX0T+VGIeTz+XeD5D2e3AMqC0s9PfBHyvqi1F5BrgSeDqaAZXSeWNBeAtVf1DFOOpinNUtawDYi4GWoUvPYEx4esgKm8cALNV9bKoRXP0ngOmq+qVInIMkFLi8Vj6TCoaC8TA56KqK4Au4PwIBDYDk0vM5unnEpdrBCKSBlwKvFzGLAOAV8O3JwDniYhEI7bKcjGWeDIAeE0dXwPHishJfgcVr0SkHtAHeAVAVfNUdW+J2WLiM3E5llh0HrBGVUt2U/D0c4nLRAA8CwwHQmU83gTYBKCqBcA+oEF0Qqu0isYCMCi8ejhBRJpGKa6jocCHIrJARIaW8vgPn0tYdnha0FQ0DoAzRGSRiEwTkfbRDK4STgZ2Av8Jb3p8WURql5gnVj4TN2OB2PhcirsGeKOU6Z5+LnGXCETkMmCHqi4ob7ZSpgWujtblWN4DMlS1EzCTH9d0gqiXqnbFWa29VUT6lHg8Jj4XKh7HQpy+Lp2BfwJToh2gS8lAV2CMqp4KHAJGlJgnVj4TN2OJlc8FgPDmrf7A/0p7uJRpR/25xF0iAHoB/UVkPfAmcK6IjCsxTzbQFEBEkoH6wJ5oBulShWNR1d2qeiR89yWgW3RDdE9Vt4Svd+Bs8+xRYpYfPpewNGBLdKJzr6JxqOp+VT0Yvj0VqC4iDaMeaMWygWxVnRu+PwHny7TkPIH/THAxlhj6XIpcDCxU1e2lPObp5xJ3iUBV71bVNFXNwFmt+kRVrysx27vAb8K3rwzPE7hfOW7GUmK7YH+cncqBIyK1RaRu0W3gQmBxidneBX4drog4HdinqlujHGq53IxDRE4s2uckIj1w/s92RzvWiqjqNmCTiLQJTzoPWFpitsB/JuBuLLHyuRTzK0rfLAQefy7xXDX0EyLyMDBfVd/F2aH0XxFZjbMmcI2vwVVSibHcJiL9gQKcsdzgZ2zlOAGYHP4/TAZeV9XpInIzgKq+CEwFLgFWAznAjT7FWh4347gSuEVECoDDwDVB/KER9kdgfHgzxFrgxhj8TIpUNJaY+VxEJAW4APh9sWkR+1ysxYQxxiS4uNs0ZIwxpnIsERhjTIKzRGCMMQnOEoExxiQ4SwTGGJPgLBEYU0nhLpaldYItdboHr3e5iLQrdn+WiMTFydhNMFgiMCb4LgfaVTiXMUfJEoGJO+Gjfz8INxdbLCJXh6d3E5HPws3iZhQdlR3+hf2siHwZnr9HeHqP8LRvw9dtynvdUmL4t4h8E37+gPD0G0RkkohMF5FVIvJUsefcJCIrw/G8JCKjReRMnCPGnxanN32L8OxXici88PxnefTWmQSVMEcWm4TSD9iiqpcCiEh9EamO02hsgKruDCeHUcCQ8HNqq+qZ4QZy/wY6AMuBPqpaICLnA48Bg1zGMBKnJcgQETkWmCciM8OPdQFOBY4AK0Tkn0AhcB9Of5wDwCfAIlX9UkTeBd5X1Qnh8QAkq2oPEbkEeAA4/2jeKGPAEoGJT1nAX0XkSZwv0Nki0gHny/2j8BdpElC8N8sbAKr6uYjUC3951wVeFZFWOJ0dq1cihgtxGgbeGb5fE0gP3/5YVfcBiMhSoBnQEPhMVfeEp/8PaF3O8ieFrxcAGZWIy5ifsURg4o6qrhSRbji9WB4XkQ9xuoQuUdUzynpaKfcfAT5V1YHinM50ViXCEGBQ+GxTP04U6YmzJlCkEOf/sLInRipaRtHzjTlqto/AxB0RaQzkqOo44K84m1tWAKkSPo+tiFSXn56YpGg/Qm+cTo77cNqTbw4/fkMlw5gB/LFYt8tTK5h/HtBXRI4TpzV68U1QB3DWToyJCPslYeJRR5ydqyEgH7hFVfNE5ErgHyJSH+dv/1lgSfg534vIlzjnhS7ab/AUzqahO3C22VfGI+HlZ4aTwXqgzHPlqupmEXkMmIvTV34pzpnzwDkXxUsichtOB01jPGXdR03CE5FZwJ2qOt/nOOqo6sHwGsFk4N+qWvKk5cZ4zjYNGRMcD4rIdzgnullHwE+laOKHrREYY0yCszUCY4xJcJYIjDEmwVkiMMaYBGeJwBhjEpwlAmOMSXD/Hyeq4RAZabQNAAAAAElFTkSuQmCC\n",
      "text/plain": [
       "<Figure size 432x288 with 1 Axes>"
      ]
     },
     "metadata": {
      "needs_background": "light"
     },
     "output_type": "display_data"
    }
   ],
   "source": [
    "x_ponits = np.arange(4, 8)\n",
    "y_ = -(clf.coef_[0][0]*x_ponits + clf.intercept_)/clf.coef_[0][1]\n",
    "plt.plot(x_ponits, y_)\n",
    "\n",
    "plt.plot(X[:50, 0], X[:50, 1], 'bo', color='blue', label='0')\n",
    "plt.plot(X[50:, 0], X[50:, 1], 'bo', color='orange', label='1')\n",
    "plt.xlabel('sepal length')\n",
    "plt.ylabel('sepal width')\n",
    "plt.legend()"
   ]
  },
  {
   "cell_type": "markdown",
   "metadata": {},
   "source": [
    "## 最大熵模型"
   ]
  },
  {
   "cell_type": "code",
   "execution_count": 14,
   "metadata": {},
   "outputs": [],
   "source": [
    "import math\n",
    "from copy import deepcopy"
   ]
  },
  {
   "cell_type": "code",
   "execution_count": 15,
   "metadata": {},
   "outputs": [],
   "source": [
    "class MaxEntropy:\n",
    "    def __init__(self, EPS=0.005):\n",
    "        self._samples = []\n",
    "        self._Y = set()  # 标签集合，相当去去重后的y\n",
    "        self._numXY = {}  # key为(x,y)，value为出现次数\n",
    "        self._N = 0  # 样本数\n",
    "        self._Ep_ = []  # 样本分布的特征期望值\n",
    "        self._xyID = {}  # key记录(x,y),value记录id号\n",
    "        self._n = 0  # 特征键值(x,y)的个数\n",
    "        self._C = 0  # 最大特征数\n",
    "        self._IDxy = {}  # key为(x,y)，value为对应的id号\n",
    "        self._w = []\n",
    "        self._EPS = EPS  # 收敛条件\n",
    "        self._lastw = []  # 上一次w参数值\n",
    "\n",
    "    def loadData(self, dataset):\n",
    "        self._samples = deepcopy(dataset)\n",
    "        for items in self._samples:\n",
    "            y = items[0]\n",
    "            X = items[1:]\n",
    "            self._Y.add(y)  # 集合中y若已存在则会自动忽略\n",
    "            for x in X:\n",
    "                if (x, y) in self._numXY:\n",
    "                    self._numXY[(x, y)] += 1\n",
    "                else:\n",
    "                    self._numXY[(x, y)] = 1\n",
    "\n",
    "        self._N = len(self._samples)\n",
    "        self._n = len(self._numXY)\n",
    "        self._C = max([len(sample) - 1 for sample in self._samples])\n",
    "        self._w = [0] * self._n\n",
    "        self._lastw = self._w[:]\n",
    "\n",
    "        self._Ep_ = [0] * self._n\n",
    "        for i, xy in enumerate(self._numXY):  # 计算特征函数fi关于经验分布的期望\n",
    "            self._Ep_[i] = self._numXY[xy] / self._N\n",
    "            self._xyID[xy] = i\n",
    "            self._IDxy[i] = xy\n",
    "\n",
    "    def _Zx(self, X):  # 计算每个Z(x)值\n",
    "        zx = 0\n",
    "        for y in self._Y:\n",
    "            ss = 0\n",
    "            for x in X:\n",
    "                if (x, y) in self._numXY:\n",
    "                    ss += self._w[self._xyID[(x, y)]]\n",
    "            zx += math.exp(ss)\n",
    "        return zx\n",
    "\n",
    "    def _model_pyx(self, y, X):  # 计算每个P(y|x)\n",
    "        zx = self._Zx(X)\n",
    "        ss = 0\n",
    "        for x in X:\n",
    "            if (x, y) in self._numXY:\n",
    "                ss += self._w[self._xyID[(x, y)]]\n",
    "        pyx = math.exp(ss) / zx\n",
    "        return pyx\n",
    "\n",
    "    def _model_ep(self, index):  # 计算特征函数fi关于模型的期望\n",
    "        x, y = self._IDxy[index]\n",
    "        ep = 0\n",
    "        for sample in self._samples:\n",
    "            if x not in sample:\n",
    "                continue\n",
    "            pyx = self._model_pyx(y, sample)\n",
    "            ep += pyx / self._N\n",
    "        return ep\n",
    "\n",
    "    def _convergence(self):  # 判断是否全部收敛\n",
    "        for last, now in zip(self._lastw, self._w):\n",
    "            if abs(last - now) >= self._EPS:\n",
    "                return False\n",
    "        return True\n",
    "\n",
    "    def predict(self, X):  # 计算预测概率\n",
    "        Z = self._Zx(X)\n",
    "        result = {}\n",
    "        for y in self._Y:\n",
    "            ss = 0\n",
    "            for x in X:\n",
    "                if (x, y) in self._numXY:\n",
    "                    ss += self._w[self._xyID[(x, y)]]\n",
    "            pyx = math.exp(ss) / Z\n",
    "            result[y] = pyx\n",
    "        return result\n",
    "\n",
    "    def train(self, maxiter=1000):  # 训练数据\n",
    "        for loop in range(maxiter):  # 最大训练次数\n",
    "            print(\"iter:%d\" % loop)\n",
    "            self._lastw = self._w[:]\n",
    "            for i in range(self._n):\n",
    "                ep = self._model_ep(i)  # 计算第i个特征的模型期望\n",
    "                self._w[i] += math.log(self._Ep_[i] / ep) / self._C  # 更新参数\n",
    "            print(\"w:\", self._w)\n",
    "            if self._convergence():  # 判断是否收敛\n",
    "                break"
   ]
  },
  {
   "cell_type": "code",
   "execution_count": 16,
   "metadata": {},
   "outputs": [],
   "source": [
    "dataset = [['no', 'sunny', 'hot', 'high', 'FALSE'],\n",
    "           ['no', 'sunny', 'hot', 'high', 'TRUE'],\n",
    "           ['yes', 'overcast', 'hot', 'high', 'FALSE'],\n",
    "           ['yes', 'rainy', 'mild', 'high', 'FALSE'],\n",
    "           ['yes', 'rainy', 'cool', 'normal', 'FALSE'],\n",
    "           ['no', 'rainy', 'cool', 'normal', 'TRUE'],\n",
    "           ['yes', 'overcast', 'cool', 'normal', 'TRUE'],\n",
    "           ['no', 'sunny', 'mild', 'high', 'FALSE'],\n",
    "           ['yes', 'sunny', 'cool', 'normal', 'FALSE'],\n",
    "           ['yes', 'rainy', 'mild', 'normal', 'FALSE'],\n",
    "           ['yes', 'sunny', 'mild', 'normal', 'TRUE'],\n",
    "           ['yes', 'overcast', 'mild', 'high', 'TRUE'],\n",
    "           ['yes', 'overcast', 'hot', 'normal', 'FALSE'],\n",
    "           ['no', 'rainy', 'mild', 'high', 'TRUE']]"
   ]
  },
  {
   "cell_type": "code",
   "execution_count": 17,
   "metadata": {},
   "outputs": [],
   "source": [
    "maxent = MaxEntropy()\n",
    "x = ['overcast', 'mild', 'high', 'FALSE']"
   ]
  },
  {
   "cell_type": "code",
   "execution_count": 18,
   "metadata": {},
    }
   ],
   "source": [
    "maxent.loadData(dataset)\n",
    "maxent.train()"
   ]
  },
  {
   "cell_type": "code",
   "execution_count": 19,
   "metadata": {},
   "outputs": [
    {
     "name": "stdout",
     "output_type": "stream",
     "text": [
      "predict: {'yes': 0.9999971802186581, 'no': 2.819781341881656e-06}\n"
     ]
    }
   ],
   "source": [
    "print('predict:', maxent.predict(x))"
   ]
  },
  {
   "cell_type": "markdown",
   "metadata": {},
   "source": [
    "## 第6章Logistic回归与最大熵模型-习题\n",
    "\n",
    "### 习题6.1\n",
    "&emsp;&emsp;确认Logistic分布属于指数分布族。"
   ]
  },
  {
   "cell_type": "markdown",
   "metadata": {},
   "source": [
    "**解答：**  \n",
    "**第1步：**  \n",
    "首先给出指数分布族的定义：  \n",
    "对于随机变量$x$，在给定参数$\\eta$下，其概率分别满足如下形式：$$p(x|\\eta)=h(x)g(\\eta)\\exp(\\eta^Tu(x))$$我们称之为**指数分布族**。  \n",
    "其中：  \n",
    "$x$：可以是标量或者向量，可以是离散值也可以是连续值  \n",
    "$\\eta$：自然参数  \n",
    "$g(\\eta)$：归一化系数  \n",
    "$h(x),u(x)$：$x$的某个函数  \n",
    "\n",
    "----\n",
    "\n",
    "**第2步：**证明伯努利分布属于指数分布族  \n",
    "伯努利分布：$\\varphi$是$y=1$的概率，即$P(Y=1)=\\varphi$  \n",
    "$\\begin{aligned}\n",
    "P(y|\\varphi) \n",
    "&= \\varphi^y (1-\\varphi)^{(1-y)} \\\\\n",
    "&= (1-\\varphi) \\varphi^y (1-\\varphi)^{(-y)} \\\\\n",
    "&= (1-\\varphi) (\\frac{\\varphi}{1-\\varphi})^y \\\\\n",
    "&= (1-\\varphi) \\exp\\left(y \\ln \\frac{\\varphi}{1-\\varphi} \\right) \\\\\n",
    "&= \\frac{1}{1+e^\\eta} \\exp (\\eta y)\n",
    "\\end{aligned}$  \n",
    "其中，$\\displaystyle \\eta=\\ln \\frac{\\varphi}{1-\\varphi} \\Leftrightarrow \\varphi = \\frac{1}{1+e^{-\\eta}}$  \n",
    "将$y$替换成$x$，可得$\\displaystyle P(x|\\eta) = \\frac{1}{1+e^\\eta} \\exp (\\eta x)$\n",
    "对比可知，伯努利分布属于指数分布族，其中$\\displaystyle h(x) = 1, g(\\eta)= \\frac{1}{1+e^\\eta}, u(x)=x$  \n",
    "\n",
    "----\n",
    "\n",
    "**第3步：**  \n",
    "广义线性模型（GLM）必须满足三个假设：\n",
    "1. $y | x;\\theta \\sim ExponentialFamily(\\eta)$，即假设预测变量$y$在给定$x$，以$\\theta$为参数的条件概率下，属于以$\\eta$作为自然参数的指数分布族；  \n",
    "2. 给定$x$，求解出以$x$为条件的$T(y)$的期望$E[T(y)|x]$，即算法输出为$h(x)=E[T(y)|x]$  \n",
    "3. 满足$\\eta=\\theta^T x$，即自然参数和输入特征向量$x$之间线性相关，关系由$\\theta$决定，仅当$\\eta$是实数时才有意义，若$\\eta$是一个向量，则$\\eta_i=\\theta_i^T x$\n",
    "\n",
    "----\n",
    "\n",
    "**第4步：**推导伯努利分布的GLM  \n",
    "已知伯努利分布属于指数分布族，对给定的$x,\\eta$，求解期望：$$\\begin{aligned}\n",
    "h_{\\theta}(x) \n",
    "&= E[y|x;\\theta] \\\\\n",
    "&= 1 \\cdot p(y=1)+ 0 \\cdot p(y=0) \\\\\n",
    "&= \\varphi \\\\\n",
    "&= \\frac{1}{1+e^{-\\eta}} \\\\\n",
    "&= \\frac{1}{1+e^{-\\theta^T x}}\n",
    "\\end{aligned}$$可得到Logistic回归算法，故Logistic分布属于指数分布族，得证。"
   ]
  },
  {
   "cell_type": "markdown",
   "metadata": {},
   "source": [
    "### 习题6.2\n",
    "&emsp;&emsp;写出Logistic回归模型学习的梯度下降算法。"
   ]
  },
  {
   "cell_type": "markdown",
   "metadata": {},
   "source": [
    "**解答：**  \n",
    "对于Logistic模型：$$P(Y=1 | x)=\\frac{\\exp (w \\cdot x+b)}{1+\\exp (w \\cdot x+b)} \\\\ P(Y=0 | x)=\\frac{1}{1+\\exp (w \\cdot x+b)}\n",
    "$$对数似然函数为：$\\displaystyle L(w)=\\sum_{i=1}^N \\left[y_i (w \\cdot x_i)-\\log \\left(1+\\exp (w \\cdot x_i)\\right)\\right]$  \n",
    "似然函数求偏导，可得$\\displaystyle \\frac{\\partial L(w)}{\\partial w^{(j)}}=\\sum_{i=1}^N\\left[x_i^{(j)} \\cdot y_i-\\frac{\\exp (w \\cdot x_i) \\cdot x_i^{(j)}}{1+\\exp (w \\cdot x_i)}\\right]$  \n",
    "梯度函数为：$\\displaystyle \\nabla L(w)=\\left[\\frac{\\partial L(w)}{\\partial w^{(0)}}, \\cdots, \\frac{\\partial L(w)}{\\partial w^{(m)}}\\right]$  \n",
    "Logistic回归模型学习的梯度下降算法：  \n",
    "(1) 取初始值$x^{(0)} \\in R$，置$k=0$  \n",
    "(2) 计算$f(x^{(k)})$  \n",
    "(3) 计算梯度$g_k=g(x^{(k)})$，当$\\|g_k\\| < \\varepsilon$时，停止迭代，令$x^* = x^{(k)}$；否则，求$\\lambda_k$，使得$\\displaystyle f(x^{(k)}+\\lambda_k g_k) = \\max_{\\lambda \\geqslant 0}f(x^{(k)}+\\lambda g_k)$  \n",
    "(4) 置$x^{(k+1)}=x^{(k)}+\\lambda_k g_k$，计算$f(x^{(k+1)})$，当$\\|f(x^{(k+1)}) - f(x^{(k)})\\| < \\varepsilon$或 $\\|x^{(k+1)} - x^{(k)}\\| < \\varepsilon$时，停止迭代，令$x^* = x^{(k+1)}$  \n",
    "(5) 否则，置$k=k+1$，转(3)"
   ]
  },
  {
   "cell_type": "code",
   "execution_count": 20,
   "metadata": {},
   "outputs": [],
   "source": [
    "%matplotlib inline\n",
    "import numpy as np\n",
    "import time\n",
    "import matplotlib.pyplot as plt\n",
    "from mpl_toolkits.mplot3d import Axes3D\n",
    "from pylab import mpl\n",
    "\n",
    "# 图像显示中文\n",
    "mpl.rcParams['font.sans-serif'] = ['Microsoft YaHei']\n",
    "\n",
    "\n",
    "class LogisticRegression:\n",
    "    def __init__(self, learn_rate=0.1, max_iter=10000, tol=1e-2):\n",
    "        self.learn_rate = learn_rate  # 学习率\n",
    "        self.max_iter = max_iter  # 迭代次数\n",
    "        self.tol = tol  # 迭代停止阈值\n",
    "        self.w = None  # 权重\n",
    "\n",
    "    def preprocessing(self, X):\n",
    "        \"\"\"将原始X末尾加上一列，该列数值全部为1\"\"\"\n",
    "        row = X.shape[0]\n",
    "        y = np.ones(row).reshape(row, 1)\n",
    "        X_prepro = np.hstack((X, y))\n",
    "        return X_prepro\n",
    "\n",
    "    def sigmod(self, x):\n",
    "        return 1 / (1 + np.exp(-x))\n",
    "\n",
    "    def fit(self, X_train, y_train):\n",
    "        X = self.preprocessing(X_train)\n",
    "        y = y_train.T\n",
    "        # 初始化权重w\n",
    "        self.w = np.array([[0] * X.shape[1]], dtype=np.float)\n",
    "        k = 0\n",
    "        for loop in range(self.max_iter):\n",
    "            # 计算梯度\n",
    "            z = np.dot(X, self.w.T)\n",
    "            grad = X * (y - self.sigmod(z))\n",
    "            grad = grad.sum(axis=0)\n",
    "            # 利用梯度的绝对值作为迭代中止的条件\n",
    "            if (np.abs(grad) <= self.tol).all():\n",
    "                break\n",
    "            else:\n",
    "                # 更新权重w 梯度上升——求极大值\n",
    "                self.w += self.learn_rate * grad\n",
    "                k += 1\n",
    "        print(\"迭代次数：{}次\".format(k))\n",
    "        print(\"最终梯度：{}\".format(grad))\n",
    "        print(\"最终权重：{}\".format(self.w[0]))\n",
    "\n",
    "    def predict(self, x):\n",
    "        p = self.sigmod(np.dot(self.preprocessing(x), self.w.T))\n",
    "        print(\"Y=1的概率被估计为：{:.2%}\".format(p[0][0]))  # 调用score时，注释掉\n",
    "        p[np.where(p > 0.5)] = 1\n",
    "        p[np.where(p < 0.5)] = 0\n",
    "        return p\n",
    "\n",
    "    def score(self, X, y):\n",
    "        y_c = self.predict(X)\n",
    "        error_rate = np.sum(np.abs(y_c - y.T)) / y_c.shape[0]\n",
    "        return 1 - error_rate\n",
    "\n",
    "    def draw(self, X, y):\n",
    "        # 分离正负实例点\n",
    "        y = y[0]\n",
    "        X_po = X[np.where(y == 1)]\n",
    "        X_ne = X[np.where(y == 0)]\n",
    "        # 绘制数据集散点图\n",
    "        ax = plt.axes(projection='3d')\n",
    "        x_1 = X_po[0, :]\n",
    "        y_1 = X_po[1, :]\n",
    "        z_1 = X_po[2, :]\n",
    "        x_2 = X_ne[0, :]\n",
    "        y_2 = X_ne[1, :]\n",
    "        z_2 = X_ne[2, :]\n",
    "        ax.scatter(x_1, y_1, z_1, c=\"r\", label=\"正实例\")\n",
    "        ax.scatter(x_2, y_2, z_2, c=\"b\", label=\"负实例\")\n",
    "        ax.legend(loc='best')\n",
    "        # 绘制p=0.5的区分平面\n",
    "        x = np.linspace(-3, 3, 3)\n",
    "        y = np.linspace(-3, 3, 3)\n",
    "        x_3, y_3 = np.meshgrid(x, y)\n",
    "        a, b, c, d = self.w[0]\n",
    "        z_3 = -(a * x_3 + b * y_3 + d) / c\n",
    "        ax.plot_surface(x_3, y_3, z_3, alpha=0.5)  # 调节透明度\n",
    "        plt.show()"
   ]
  },
  {
   "cell_type": "code",
   "execution_count": 21,
   "metadata": {},
   "outputs": [
    {
     "name": "stdout",
     "output_type": "stream",
     "text": [
      "迭代次数：3232次\n",
      "最终梯度：[ 0.00144779  0.00046133  0.00490279 -0.00999848]\n",
      "最终权重：[  2.96908597   1.60115396   5.04477438 -13.43744079]\n"
     ]
    },
    {
     "data": {
      "image/png": "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\n",
      "text/plain": [
       "<Figure size 432x288 with 1 Axes>"
      ]
     },
     "metadata": {
      "needs_background": "light"
     },
     "output_type": "display_data"
    }
   ],
   "source": [
    "# 训练数据集\n",
    "X_train = np.array([[3, 3, 3], [4, 3, 2], [2, 1, 2], [1, 1, 1], [-1, 0, 1],\n",
    "                    [2, -2, 1]])\n",
    "y_train = np.array([[1, 1, 1, 0, 0, 0]])\n",
    "# 构建实例，进行训练\n",
    "clf = LogisticRegression()\n",
    "clf.fit(X_train, y_train)\n",
    "clf.draw(X_train, y_train)"
   ]
  },
  {
   "cell_type": "markdown",
   "metadata": {},
   "source": [
    "### 习题6.3\n",
    "&emsp;&emsp;写出最大熵模型学习的DFP算法。（关于一般的DFP算法参见附录B）"
   ]
  },
  {
   "cell_type": "markdown",
   "metadata": {},
   "source": [
    "**解答：**  \n",
    "**第1步：**  \n",
    "最大熵模型为：$$\n",
    "\\begin{array}{cl}\n",
    "{\\max } & {H(p)=-\\sum_{x, y} P(x) P(y | x) \\log P(y | x)} \\\\ \n",
    "{\\text {st.}} &\n",
    "{E_p(f_i)-E_{\\hat{p}}(f_i)=0, \\quad i=1,2, \\cdots,n} \\\\ \n",
    "& {\\sum_y P(y | x)=1}\n",
    "\\end{array}$$引入拉格朗日乘子，定义拉格朗日函数：$$\n",
    "L(P, w)=\\sum_{xy} P(x) P(y | x) \\log P(y | x)+w_0 \\left(1-\\sum_y P(y | x)\\right) \\\\\n",
    "+\\sum_{i=1} w_i\\left(\\sum_{xy} P(x, y) f_i(x, y)-\\sum_{xy} P(x, y) P(y | x) f_i(x, y)\\right)$$\n",
    "最优化原始问题为：$$\\min_{P \\in C} \\max_{w} L(P,w)$$对偶问题为：$$\\max_{w} \\min_{P \\in C} L(P,w)$$令$$\\Psi(w) = \\min_{P \\in C} L(P,w) = L(P_w, w)$$$\\Psi(w)$称为对偶函数，同时，其解记作$$P_w = \\mathop{\\arg \\min}_{P \\in C} L(P,w) = P_w(y|x)$$求$L(P,w)$对$P(y|x)$的偏导数，并令偏导数等于0，解得：$$P_w(y | x)=\\frac{1}{Z_w(x)} \\exp \\left(\\sum_{i=1}^n w_i f_i (x, y)\\right)$$其中：$$Z_w(x)=\\sum_y \\exp \\left(\\sum_{i=1}^n w_i f_i(x, y)\\right)$$则最大熵模型目标函数表示为$$\\varphi(w)=\\min_{w \\in R_n} \\Psi(w) = \\sum_{x} P(x) \\log \\sum_{y} \\exp \\left(\\sum_{i=1}^{n} w_{i} f_{i}(x, y)\\right)-\\sum_{x, y} P(x, y) \\sum_{i=1}^{n} w_{i} f_{i}(x, y)$$  "
   ]
  },
  {
   "cell_type": "markdown",
   "metadata": {},
   "source": [
    "**第2步：**  \n",
    "DFP的$G_{k+1}$的迭代公式为：$$G_{k+1}=G_k+\\frac{\\delta_k \\delta_k^T}{\\delta_k^T y_k}-\\frac{G_k y_k y_k^T G_k}{y_k^T G_k y_k}$$  \n",
    "**最大熵模型的DFP算法：**   \n",
    "输入：目标函数$\\varphi(w)$，梯度$g(w) = \\nabla g(w)$，精度要求$\\varepsilon$；  \n",
    "输出：$\\varphi(w)$的极小值点$w^*$  \n",
    "(1)选定初始点$w^{(0)}$，取$G_0$为正定对称矩阵，置$k=0$  \n",
    "(2)计算$g_k=g(w^{(k)})$，若$\\|g_k\\| < \\varepsilon$，则停止计算，得近似解$w^*=w^{(k)}$，否则转(3)  \n",
    "(3)置$p_k=-G_kg_k$  \n",
    "(4)一维搜索：求$\\lambda_k$使得$$\\varphi\\left(w^{(k)}+\\lambda_k P_k\\right)=\\min _{\\lambda \\geqslant 0} \\varphi\\left(w^{(k)}+\\lambda P_{k}\\right)$$(5)置$w^{(k+1)}=w^{(k)}+\\lambda_k p_k$  \n",
    "(6)计算$g_{k+1}=g(w^{(k+1)})$，若$\\|g_{k+1}\\| < \\varepsilon$，则停止计算，得近似解$w^*=w^{(k+1)}$；否则，按照迭代式算出$G_{k+1}$  \n",
    "(7)置$k=k+1$，转(3)  "
   ]
  },
  {
   "cell_type": "markdown",
   "metadata": {},
   "source": [
    "----\n",
    "参考代码：https://github.com/wzyonggege/statistical-learning-method\n",
    "\n",
    "本文代码更新地址：https://github.com/fengdu78/lihang-code\n",
    "\n",
    "习题解答：https://github.com/datawhalechina/statistical-learning-method-solutions-manual\n",
    "\n",
    "中文注释制作：机器学习初学者公众号：ID:ai-start-com\n",
    "\n",
    "配置环境：python 3.5+\n",
    "\n",
    "代码全部测试通过。\n",
    "![gongzhong](../gongzhong.jpg)"
   ]
  }
 ],
 "metadata": {
  "kernelspec": {
   "display_name": "Python 3",
   "language": "python",
   "name": "python3"
  },
  "language_info": {
   "codemirror_mode": {
    "name": "ipython",
    "version": 3
   },
   "file_extension": ".py",
   "mimetype": "text/x-python",
   "name": "python",
   "nbconvert_exporter": "python",
   "pygments_lexer": "ipython3",
   "version": "3.7.6"
  }
 },
 "nbformat": 4,
 "nbformat_minor": 2
}
